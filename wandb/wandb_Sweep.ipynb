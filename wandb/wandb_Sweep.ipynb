{
 "cells": [
  {
   "cell_type": "code",
   "execution_count": 30,
   "metadata": {},
   "outputs": [],
   "source": [
    "import os\n",
    "os.environ['CUDA_DEVICE_ORDER'] = 'PCI_BUS_ID'\n",
    "os.environ['CUDA_VISIBLE_DEVICES'] = '0, 1, 2'\n",
    "import wandb\n",
    "\n",
    "from torchvision import datasets, transforms\n",
    "from torch.utils.data import DataLoader\n",
    "import torch\n",
    "import torch.nn as nn\n",
    "import torch.optim as optim\n",
    "import math\n",
    "\n",
    "device = \"cuda\" if torch.cuda.is_available() else \"cpu\""
   ]
  },
  {
   "cell_type": "code",
   "execution_count": 50,
   "metadata": {},
   "outputs": [],
   "source": [
    "sweep_config = {\n",
    "    'method': 'random',\n",
    "    'metric' : {\n",
    "        'name': 'val_loss',\n",
    "        'goal': 'minimize'   \n",
    "    },\n",
    "    'parameters' : {\n",
    "        'optimizer': {\n",
    "            'values': ['adam', 'sgd']\n",
    "            },\n",
    "        'dropout': {\n",
    "            'values': [0.3, 0.4]\n",
    "            },\n",
    "        'learning_rate': {\n",
    "            'distribution': 'uniform',\n",
    "            'min': 0,\n",
    "            'max': 0.1\n",
    "            },\n",
    "        'epochs': {\n",
    "            'values': [5, 6]\n",
    "            },\n",
    "        'batch_size': {\n",
    "            'distribution': 'q_log_uniform',\n",
    "            'q': 1,\n",
    "            'min': math.log(32),\n",
    "            'max': math.log(256),\n",
    "            }\n",
    "        }\n",
    "    }"
   ]
  },
  {
   "cell_type": "code",
   "execution_count": 51,
   "metadata": {},
   "outputs": [
    {
     "name": "stdout",
     "output_type": "stream",
     "text": [
      "{'method': 'random',\n",
      " 'metric': {'goal': 'minimize', 'name': 'val_loss'},\n",
      " 'parameters': {'batch_size': {'distribution': 'q_log_uniform',\n",
      "                               'max': 5.545177444479562,\n",
      "                               'min': 3.4657359027997265,\n",
      "                               'q': 1},\n",
      "                'dropout': {'values': [0.3, 0.4]},\n",
      "                'epochs': {'values': [5, 6]},\n",
      "                'learning_rate': {'distribution': 'uniform',\n",
      "                                  'max': 0.1,\n",
      "                                  'min': 0},\n",
      "                'optimizer': {'values': ['adam', 'sgd']}}}\n"
     ]
    }
   ],
   "source": [
    "import pprint\n",
    "pprint.pprint(sweep_config)"
   ]
  },
  {
   "cell_type": "code",
   "execution_count": 52,
   "metadata": {},
   "outputs": [],
   "source": [
    "def SweepDataset(batch_size):\n",
    "    transform = transforms.Compose(\n",
    "        [transforms.ToTensor(),\n",
    "         transforms.Normalize((0.1307,), (0.3081,))])\n",
    "    \n",
    "    train_data = datasets.MNIST(\".\", \n",
    "                train=True, \n",
    "                download=True,\n",
    "                transform=transform)\n",
    "    \n",
    "    test_data = datasets.MNIST(\".\", \n",
    "                train=False, \n",
    "                download=True,\n",
    "                transform=transform)\n",
    "    \n",
    "    \n",
    "    train_loader = DataLoader(train_data, batch_size=batch_size)\n",
    "    test_loader = DataLoader(test_data, batch_size=batch_size)\n",
    "\n",
    "    return train_loader, test_loader"
   ]
  },
  {
   "cell_type": "code",
   "execution_count": 53,
   "metadata": {},
   "outputs": [],
   "source": [
    "class ConvNet(nn.Module):\n",
    "    def __init__(self, dropout):\n",
    "        super(ConvNet, self).__init__()\n",
    "        self.layer1 = nn.Sequential(\n",
    "            nn.Conv2d(1, 32, 3, 1, 1), nn.ReLU(),\n",
    "            nn.MaxPool2d(2, 2))\n",
    "        self.layer2 = nn.Sequential(\n",
    "            nn.Conv2d(32, 64, 3, 1, 1), nn.ReLU(),\n",
    "            nn.MaxPool2d(2, 2))\n",
    "        self.layer3 = nn.Sequential(\n",
    "            nn.Linear(64 * 7 * 7, 128, bias=True), nn.ReLU(),\n",
    "            nn.Dropout2d(p=dropout))\n",
    "        self.layer4 = nn.Sequential(\n",
    "            nn.Linear(128, 84), nn.ReLU(),\n",
    "            nn.Dropout2d(p=dropout))\n",
    "        self.fc3 = nn.Linear(84, 10)\n",
    "\n",
    "    def forward(self, x):\n",
    "        x = self.layer1(x)\n",
    "        x = self.layer2(x)\n",
    "        x = x.view(x.size(0),-1) \n",
    "        x = self.layer3(x)\n",
    "        x = self.layer4(x)\n",
    "        x = self.fc3(x)\n",
    "        return x"
   ]
  },
  {
   "cell_type": "code",
   "execution_count": 54,
   "metadata": {},
   "outputs": [],
   "source": [
    "def build_optimizer(network, optimizer, learning_rate):\n",
    "    if optimizer == \"sgd\":\n",
    "        optimizer = optim.SGD(network.parameters(),\n",
    "                              lr=learning_rate, momentum=0.9)\n",
    "    elif optimizer == \"adam\":\n",
    "        optimizer = optim.Adam(network.parameters(),\n",
    "                               lr=learning_rate)\n",
    "    return optimizer"
   ]
  },
  {
   "cell_type": "code",
   "execution_count": 55,
   "metadata": {},
   "outputs": [],
   "source": [
    "def train(model, loader, criterion, optimizer, device, config, wandb):\n",
    "    model.train()\n",
    "    for epoch in range(config.epochs):\n",
    "        cumu_loss = 0\n",
    "        for images, labels in loader:\n",
    "            images, labels  = images.to(device), labels.to(device)\n",
    "\n",
    "            output = model(images)\n",
    "            loss = criterion(output, labels)\n",
    "            cumu_loss += loss.item()\n",
    "\n",
    "            optimizer.zero_grad()\n",
    "            loss.backward()\n",
    "            optimizer.step()\n",
    "\n",
    "        avg_loss = cumu_loss / len(loader)\n",
    "        wandb.log({\"train_loss\": avg_loss}, step=epoch)  \n",
    "        print(f\"TRAIN: EPOCH {epoch + 1:04d} / {config.epochs:04d} | Epoch LOSS {avg_loss:.4f}\")"
   ]
  },
  {
   "cell_type": "code",
   "execution_count": 56,
   "metadata": {},
   "outputs": [],
   "source": [
    "def vaild(model, loader, criterion, device,  wandb):\n",
    "    model.eval()\n",
    "    with torch.no_grad():\n",
    "        correct, test_loss = 0, 0\n",
    "        for data, target in loader:\n",
    "            data, target = data.to(device), target.to(device)\n",
    "            output = model(data)\n",
    "            \n",
    "            test_loss += criterion(output, target).item()\n",
    "            \n",
    "            pred = output.max(1, keepdim=True)[1]\n",
    "            correct += pred.eq(target.view_as(pred)).sum().item()\n",
    "            \n",
    "    \n",
    "    val_loss = test_loss / len(loader)\n",
    "    print(f\"VALID: LOSS {val_loss:.4f} | Accuracy {val_loss:.4f} \")\n",
    "    wandb.log({\n",
    "        \"val_acc\": 100. * correct / len(loader.dataset),\n",
    "        \"val_loss\": val_loss})"
   ]
  },
  {
   "cell_type": "code",
   "execution_count": 57,
   "metadata": {},
   "outputs": [],
   "source": [
    "def run_sweep(config = None):\n",
    "    wandb.init(config = config, name = 'test1')\n",
    "\n",
    "    w_config = wandb.config\n",
    "    criterion = nn.CrossEntropyLoss()\n",
    "    train_loader, vaild_loader = SweepDataset(w_config.batch_size)\n",
    "    model = ConvNet(w_config.dropout).to(device)\n",
    "    optimizer = build_optimizer(model, w_config.optimizer, w_config.learning_rate)\n",
    "    \n",
    "    train(model, train_loader, criterion, optimizer, device, w_config, wandb)\n",
    "    vaild(model, vaild_loader, criterion, device, wandb)"
   ]
  },
  {
   "cell_type": "code",
   "execution_count": 58,
   "metadata": {},
   "outputs": [
    {
     "name": "stderr",
     "output_type": "stream",
     "text": [
      "\u001b[34m\u001b[1mwandb\u001b[0m: \u001b[33mWARNING\u001b[0m Malformed sweep config detected! This may cause your sweep to behave in unexpected ways.\n",
      "\u001b[34m\u001b[1mwandb\u001b[0m: \u001b[33mWARNING\u001b[0m To avoid this, please fix the sweep config schema violations below:\n",
      "\u001b[34m\u001b[1mwandb\u001b[0m: \u001b[33mWARNING\u001b[0m   Violation 1. batch_size uses q_log_uniform, where min/max specify base-e exponents. Use q_log_uniform_values to specify limit values.\n"
     ]
    },
    {
     "name": "stdout",
     "output_type": "stream",
     "text": [
      "Create sweep with ID: 16qztovc\n",
      "Sweep URL: https://wandb.ai/wongi/Sweep_demo/sweeps/16qztovc\n"
     ]
    },
    {
     "name": "stderr",
     "output_type": "stream",
     "text": [
      "\u001b[34m\u001b[1mwandb\u001b[0m: Agent Starting Run: asima2og with config:\n",
      "\u001b[34m\u001b[1mwandb\u001b[0m: \tbatch_size: 122\n",
      "\u001b[34m\u001b[1mwandb\u001b[0m: \tdropout: 0.4\n",
      "\u001b[34m\u001b[1mwandb\u001b[0m: \tepochs: 6\n",
      "\u001b[34m\u001b[1mwandb\u001b[0m: \tlearning_rate: 0.0710534412908822\n",
      "\u001b[34m\u001b[1mwandb\u001b[0m: \toptimizer: adam\n",
      "Failed to detect the name of this notebook, you can set it manually with the WANDB_NOTEBOOK_NAME environment variable to enable code saving.\n",
      "2022-09-17 12:18:35.468240: I tensorflow/stream_executor/platform/default/dso_loader.cc:53] Successfully opened dynamic library libcudart.so.11.0\n"
     ]
    },
    {
     "data": {
      "text/html": "wandb version 0.13.3 is available!  To upgrade, please run:\n $ pip install wandb --upgrade",
      "text/plain": "<IPython.core.display.HTML object>"
     },
     "metadata": {},
     "output_type": "display_data"
    },
    {
     "data": {
      "text/html": "Tracking run with wandb version 0.12.14",
      "text/plain": "<IPython.core.display.HTML object>"
     },
     "metadata": {},
     "output_type": "display_data"
    },
    {
     "data": {
      "text/html": "Run data is saved locally in <code>/home/psboys/private/Wandb_Study/wandb/run-20220917_121834-asima2og</code>",
      "text/plain": "<IPython.core.display.HTML object>"
     },
     "metadata": {},
     "output_type": "display_data"
    },
    {
     "data": {
      "text/html": "Syncing run <strong><a href=\"https://wandb.ai/wongi/Sweep_demo/runs/asima2og\" target=\"_blank\">test1</a></strong> to <a href=\"https://wandb.ai/wongi/Sweep_demo\" target=\"_blank\">Weights & Biases</a> (<a href=\"https://wandb.me/run\" target=\"_blank\">docs</a>)<br/>Sweep page:  <a href=\"https://wandb.ai/wongi/Sweep_demo/sweeps/16qztovc\" target=\"_blank\">https://wandb.ai/wongi/Sweep_demo/sweeps/16qztovc</a>",
      "text/plain": "<IPython.core.display.HTML object>"
     },
     "metadata": {},
     "output_type": "display_data"
    },
    {
     "name": "stdout",
     "output_type": "stream",
     "text": [
      "Downloading http://yann.lecun.com/exdb/mnist/train-images-idx3-ubyte.gz to ./MNIST/raw/train-images-idx3-ubyte.gz\n"
     ]
    },
    {
     "data": {
      "application/vnd.jupyter.widget-view+json": {
       "model_id": "ef5ea3502e364a6997a4ee07a386feda",
       "version_major": 2,
       "version_minor": 0
      },
      "text/plain": "0it [00:00, ?it/s]"
     },
     "metadata": {},
     "output_type": "display_data"
    },
    {
     "name": "stdout",
     "output_type": "stream",
     "text": [
      "Extracting ./MNIST/raw/train-images-idx3-ubyte.gz to ./MNIST/raw\n",
      "Downloading http://yann.lecun.com/exdb/mnist/train-labels-idx1-ubyte.gz to ./MNIST/raw/train-labels-idx1-ubyte.gz\n"
     ]
    },
    {
     "data": {
      "application/vnd.jupyter.widget-view+json": {
       "model_id": "c107708ce76d487faa55552208ad6fd7",
       "version_major": 2,
       "version_minor": 0
      },
      "text/plain": "0it [00:00, ?it/s]"
     },
     "metadata": {},
     "output_type": "display_data"
    },
    {
     "name": "stdout",
     "output_type": "stream",
     "text": [
      "Extracting ./MNIST/raw/train-labels-idx1-ubyte.gz to ./MNIST/raw\n",
      "Downloading http://yann.lecun.com/exdb/mnist/t10k-images-idx3-ubyte.gz to ./MNIST/raw/t10k-images-idx3-ubyte.gz\n"
     ]
    },
    {
     "data": {
      "application/vnd.jupyter.widget-view+json": {
       "model_id": "324887d4ff3a408d954ad2298892a380",
       "version_major": 2,
       "version_minor": 0
      },
      "text/plain": "0it [00:00, ?it/s]"
     },
     "metadata": {},
     "output_type": "display_data"
    },
    {
     "name": "stdout",
     "output_type": "stream",
     "text": [
      "Extracting ./MNIST/raw/t10k-images-idx3-ubyte.gz to ./MNIST/raw\n",
      "Downloading http://yann.lecun.com/exdb/mnist/t10k-labels-idx1-ubyte.gz to ./MNIST/raw/t10k-labels-idx1-ubyte.gz\n"
     ]
    },
    {
     "data": {
      "application/vnd.jupyter.widget-view+json": {
       "model_id": "edcbc1f3a68547d8b2f5f184626a1c38",
       "version_major": 2,
       "version_minor": 0
      },
      "text/plain": "0it [00:00, ?it/s]"
     },
     "metadata": {},
     "output_type": "display_data"
    },
    {
     "name": "stdout",
     "output_type": "stream",
     "text": [
      "Extracting ./MNIST/raw/t10k-labels-idx1-ubyte.gz to ./MNIST/raw\n",
      "Processing...\n",
      "Done!\n"
     ]
    },
    {
     "name": "stderr",
     "output_type": "stream",
     "text": [
      "/home/psboys/.local/lib/python3.8/site-packages/torchvision/datasets/mnist.py:480: UserWarning: The given NumPy array is not writeable, and PyTorch does not support non-writeable tensors. This means you can write to the underlying (supposedly non-writeable) NumPy array using the tensor. You may want to copy the array to protect its data or make it writeable before converting it to a tensor. This type of warning will be suppressed for the rest of this program. (Triggered internally at  /pytorch/torch/csrc/utils/tensor_numpy.cpp:141.)\n",
      "  return torch.from_numpy(parsed.astype(m[2], copy=False)).view(*s)\n"
     ]
    },
    {
     "name": "stdout",
     "output_type": "stream",
     "text": [
      "TRAIN: EPOCH 0001 / 0006 | Epoch LOSS 5.5176\n",
      "TRAIN: EPOCH 0002 / 0006 | Epoch LOSS 2.3042\n",
      "TRAIN: EPOCH 0003 / 0006 | Epoch LOSS 2.3043\n",
      "TRAIN: EPOCH 0004 / 0006 | Epoch LOSS 2.3043\n",
      "TRAIN: EPOCH 0005 / 0006 | Epoch LOSS 2.3043\n",
      "TRAIN: EPOCH 0006 / 0006 | Epoch LOSS 2.3044\n",
      "VALID: LOSS 2.3026 | Accuracy 2.3026 \n",
      "\n"
     ]
    },
    {
     "data": {
      "text/html": "Waiting for W&B process to finish... <strong style=\"color:green\">(success).</strong>",
      "text/plain": "<IPython.core.display.HTML object>"
     },
     "metadata": {},
     "output_type": "display_data"
    },
    {
     "data": {
      "application/vnd.jupyter.widget-view+json": {
       "model_id": "c3bfe48593e54566a7d275d7a4495ba2",
       "version_major": 2,
       "version_minor": 0
      },
      "text/plain": "VBox(children=(Label(value='0.001 MB of 0.001 MB uploaded (0.000 MB deduped)\\r'), FloatProgress(value=1.0, max…"
     },
     "metadata": {},
     "output_type": "display_data"
    },
    {
     "data": {
      "text/html": "<style>\n    table.wandb td:nth-child(1) { padding: 0 10px; text-align: right }\n    .wandb-row { display: flex; flex-direction: row; flex-wrap: wrap; width: 100% }\n    .wandb-col { display: flex; flex-direction: column; flex-basis: 100%; flex: 1; padding: 10px; }\n    </style>\n<div class=\"wandb-row\"><div class=\"wandb-col\"><h3>Run history:</h3><br/><table class=\"wandb\"><tr><td>train_loss</td><td>█▁▁▁▁▁</td></tr><tr><td>val_acc</td><td>▁</td></tr><tr><td>val_loss</td><td>▁</td></tr></table><br/></div><div class=\"wandb-col\"><h3>Run summary:</h3><br/><table class=\"wandb\"><tr><td>train_loss</td><td>2.30436</td></tr><tr><td>val_acc</td><td>10.1</td></tr><tr><td>val_loss</td><td>2.30264</td></tr></table><br/></div></div>",
      "text/plain": "<IPython.core.display.HTML object>"
     },
     "metadata": {},
     "output_type": "display_data"
    },
    {
     "data": {
      "text/html": "Synced <strong style=\"color:#cdcd00\">test1</strong>: <a href=\"https://wandb.ai/wongi/Sweep_demo/runs/asima2og\" target=\"_blank\">https://wandb.ai/wongi/Sweep_demo/runs/asima2og</a><br/>Synced 6 W&B file(s), 0 media file(s), 0 artifact file(s) and 0 other file(s)",
      "text/plain": "<IPython.core.display.HTML object>"
     },
     "metadata": {},
     "output_type": "display_data"
    },
    {
     "data": {
      "text/html": "Find logs at: <code>./wandb/run-20220917_121834-asima2og/logs</code>",
      "text/plain": "<IPython.core.display.HTML object>"
     },
     "metadata": {},
     "output_type": "display_data"
    },
    {
     "name": "stderr",
     "output_type": "stream",
     "text": [
      "\u001b[34m\u001b[1mwandb\u001b[0m: Agent Starting Run: 1pq3rc9h with config:\n",
      "\u001b[34m\u001b[1mwandb\u001b[0m: \tbatch_size: 174\n",
      "\u001b[34m\u001b[1mwandb\u001b[0m: \tdropout: 0.3\n",
      "\u001b[34m\u001b[1mwandb\u001b[0m: \tepochs: 6\n",
      "\u001b[34m\u001b[1mwandb\u001b[0m: \tlearning_rate: 0.057520677417754185\n",
      "\u001b[34m\u001b[1mwandb\u001b[0m: \toptimizer: adam\n",
      "Failed to detect the name of this notebook, you can set it manually with the WANDB_NOTEBOOK_NAME environment variable to enable code saving.\n",
      "2022-09-17 12:20:36.239697: I tensorflow/stream_executor/platform/default/dso_loader.cc:53] Successfully opened dynamic library libcudart.so.11.0\n"
     ]
    },
    {
     "data": {
      "text/html": "wandb version 0.13.3 is available!  To upgrade, please run:\n $ pip install wandb --upgrade",
      "text/plain": "<IPython.core.display.HTML object>"
     },
     "metadata": {},
     "output_type": "display_data"
    },
    {
     "data": {
      "text/html": "Tracking run with wandb version 0.12.14",
      "text/plain": "<IPython.core.display.HTML object>"
     },
     "metadata": {},
     "output_type": "display_data"
    },
    {
     "data": {
      "text/html": "Run data is saved locally in <code>/home/psboys/private/Wandb_Study/wandb/run-20220917_122034-1pq3rc9h</code>",
      "text/plain": "<IPython.core.display.HTML object>"
     },
     "metadata": {},
     "output_type": "display_data"
    },
    {
     "data": {
      "text/html": "Syncing run <strong><a href=\"https://wandb.ai/wongi/Sweep_demo/runs/1pq3rc9h\" target=\"_blank\">test1</a></strong> to <a href=\"https://wandb.ai/wongi/Sweep_demo\" target=\"_blank\">Weights & Biases</a> (<a href=\"https://wandb.me/run\" target=\"_blank\">docs</a>)<br/>Sweep page:  <a href=\"https://wandb.ai/wongi/Sweep_demo/sweeps/16qztovc\" target=\"_blank\">https://wandb.ai/wongi/Sweep_demo/sweeps/16qztovc</a>",
      "text/plain": "<IPython.core.display.HTML object>"
     },
     "metadata": {},
     "output_type": "display_data"
    },
    {
     "name": "stdout",
     "output_type": "stream",
     "text": [
      "TRAIN: EPOCH 0001 / 0006 | Epoch LOSS 3.7205\n",
      "TRAIN: EPOCH 0002 / 0006 | Epoch LOSS 2.3031\n",
      "TRAIN: EPOCH 0003 / 0006 | Epoch LOSS 2.3032\n",
      "TRAIN: EPOCH 0004 / 0006 | Epoch LOSS 2.3032\n",
      "TRAIN: EPOCH 0005 / 0006 | Epoch LOSS 2.3033\n",
      "TRAIN: EPOCH 0006 / 0006 | Epoch LOSS 2.3033\n",
      "VALID: LOSS 2.3014 | Accuracy 2.3014 \n",
      "\n"
     ]
    },
    {
     "data": {
      "text/html": "Waiting for W&B process to finish... <strong style=\"color:green\">(success).</strong>",
      "text/plain": "<IPython.core.display.HTML object>"
     },
     "metadata": {},
     "output_type": "display_data"
    },
    {
     "data": {
      "application/vnd.jupyter.widget-view+json": {
       "model_id": "dae530ad0706465b8d2e4de1f7c33da9",
       "version_major": 2,
       "version_minor": 0
      },
      "text/plain": "VBox(children=(Label(value='0.001 MB of 0.001 MB uploaded (0.000 MB deduped)\\r'), FloatProgress(value=1.0, max…"
     },
     "metadata": {},
     "output_type": "display_data"
    },
    {
     "data": {
      "text/html": "<style>\n    table.wandb td:nth-child(1) { padding: 0 10px; text-align: right }\n    .wandb-row { display: flex; flex-direction: row; flex-wrap: wrap; width: 100% }\n    .wandb-col { display: flex; flex-direction: column; flex-basis: 100%; flex: 1; padding: 10px; }\n    </style>\n<div class=\"wandb-row\"><div class=\"wandb-col\"><h3>Run history:</h3><br/><table class=\"wandb\"><tr><td>train_loss</td><td>█▁▁▁▁▁</td></tr><tr><td>val_acc</td><td>▁</td></tr><tr><td>val_loss</td><td>▁</td></tr></table><br/></div><div class=\"wandb-col\"><h3>Run summary:</h3><br/><table class=\"wandb\"><tr><td>train_loss</td><td>2.30327</td></tr><tr><td>val_acc</td><td>11.35</td></tr><tr><td>val_loss</td><td>2.30144</td></tr></table><br/></div></div>",
      "text/plain": "<IPython.core.display.HTML object>"
     },
     "metadata": {},
     "output_type": "display_data"
    },
    {
     "data": {
      "text/html": "Synced <strong style=\"color:#cdcd00\">test1</strong>: <a href=\"https://wandb.ai/wongi/Sweep_demo/runs/1pq3rc9h\" target=\"_blank\">https://wandb.ai/wongi/Sweep_demo/runs/1pq3rc9h</a><br/>Synced 6 W&B file(s), 0 media file(s), 0 artifact file(s) and 0 other file(s)",
      "text/plain": "<IPython.core.display.HTML object>"
     },
     "metadata": {},
     "output_type": "display_data"
    },
    {
     "data": {
      "text/html": "Find logs at: <code>./wandb/run-20220917_122034-1pq3rc9h/logs</code>",
      "text/plain": "<IPython.core.display.HTML object>"
     },
     "metadata": {},
     "output_type": "display_data"
    },
    {
     "name": "stderr",
     "output_type": "stream",
     "text": [
      "\u001b[34m\u001b[1mwandb\u001b[0m: Sweep Agent: Waiting for job.\n",
      "\u001b[34m\u001b[1mwandb\u001b[0m: Job received.\n",
      "\u001b[34m\u001b[1mwandb\u001b[0m: Agent Starting Run: ungwksc5 with config:\n",
      "\u001b[34m\u001b[1mwandb\u001b[0m: \tbatch_size: 68\n",
      "\u001b[34m\u001b[1mwandb\u001b[0m: \tdropout: 0.4\n",
      "\u001b[34m\u001b[1mwandb\u001b[0m: \tepochs: 6\n",
      "\u001b[34m\u001b[1mwandb\u001b[0m: \tlearning_rate: 0.09747943452538484\n",
      "\u001b[34m\u001b[1mwandb\u001b[0m: \toptimizer: adam\n",
      "Failed to detect the name of this notebook, you can set it manually with the WANDB_NOTEBOOK_NAME environment variable to enable code saving.\n",
      "2022-09-17 12:22:30.546302: I tensorflow/stream_executor/platform/default/dso_loader.cc:53] Successfully opened dynamic library libcudart.so.11.0\n"
     ]
    },
    {
     "data": {
      "text/html": "wandb version 0.13.3 is available!  To upgrade, please run:\n $ pip install wandb --upgrade",
      "text/plain": "<IPython.core.display.HTML object>"
     },
     "metadata": {},
     "output_type": "display_data"
    },
    {
     "data": {
      "text/html": "Tracking run with wandb version 0.12.14",
      "text/plain": "<IPython.core.display.HTML object>"
     },
     "metadata": {},
     "output_type": "display_data"
    },
    {
     "data": {
      "text/html": "Run data is saved locally in <code>/home/psboys/private/Wandb_Study/wandb/run-20220917_122228-ungwksc5</code>",
      "text/plain": "<IPython.core.display.HTML object>"
     },
     "metadata": {},
     "output_type": "display_data"
    },
    {
     "data": {
      "text/html": "Syncing run <strong><a href=\"https://wandb.ai/wongi/Sweep_demo/runs/ungwksc5\" target=\"_blank\">test1</a></strong> to <a href=\"https://wandb.ai/wongi/Sweep_demo\" target=\"_blank\">Weights & Biases</a> (<a href=\"https://wandb.me/run\" target=\"_blank\">docs</a>)<br/>Sweep page:  <a href=\"https://wandb.ai/wongi/Sweep_demo/sweeps/16qztovc\" target=\"_blank\">https://wandb.ai/wongi/Sweep_demo/sweeps/16qztovc</a>",
      "text/plain": "<IPython.core.display.HTML object>"
     },
     "metadata": {},
     "output_type": "display_data"
    },
    {
     "name": "stdout",
     "output_type": "stream",
     "text": [
      "TRAIN: EPOCH 0001 / 0006 | Epoch LOSS 4.6731\n",
      "TRAIN: EPOCH 0002 / 0006 | Epoch LOSS 2.3074\n",
      "TRAIN: EPOCH 0003 / 0006 | Epoch LOSS 2.3074\n",
      "TRAIN: EPOCH 0004 / 0006 | Epoch LOSS 2.3074\n",
      "TRAIN: EPOCH 0005 / 0006 | Epoch LOSS 2.3074\n",
      "TRAIN: EPOCH 0006 / 0006 | Epoch LOSS 2.3074\n",
      "VALID: LOSS 2.3044 | Accuracy 2.3044 \n",
      "\n"
     ]
    },
    {
     "data": {
      "text/html": "Waiting for W&B process to finish... <strong style=\"color:green\">(success).</strong>",
      "text/plain": "<IPython.core.display.HTML object>"
     },
     "metadata": {},
     "output_type": "display_data"
    },
    {
     "data": {
      "application/vnd.jupyter.widget-view+json": {
       "model_id": "c9858bc7983344358b3098e5b88ddf1b",
       "version_major": 2,
       "version_minor": 0
      },
      "text/plain": "VBox(children=(Label(value='0.001 MB of 0.001 MB uploaded (0.000 MB deduped)\\r'), FloatProgress(value=1.0, max…"
     },
     "metadata": {},
     "output_type": "display_data"
    },
    {
     "data": {
      "text/html": "<style>\n    table.wandb td:nth-child(1) { padding: 0 10px; text-align: right }\n    .wandb-row { display: flex; flex-direction: row; flex-wrap: wrap; width: 100% }\n    .wandb-col { display: flex; flex-direction: column; flex-basis: 100%; flex: 1; padding: 10px; }\n    </style>\n<div class=\"wandb-row\"><div class=\"wandb-col\"><h3>Run history:</h3><br/><table class=\"wandb\"><tr><td>train_loss</td><td>█▁▁▁▁▁</td></tr><tr><td>val_acc</td><td>▁</td></tr><tr><td>val_loss</td><td>▁</td></tr></table><br/></div><div class=\"wandb-col\"><h3>Run summary:</h3><br/><table class=\"wandb\"><tr><td>train_loss</td><td>2.30743</td></tr><tr><td>val_acc</td><td>9.58</td></tr><tr><td>val_loss</td><td>2.30439</td></tr></table><br/></div></div>",
      "text/plain": "<IPython.core.display.HTML object>"
     },
     "metadata": {},
     "output_type": "display_data"
    },
    {
     "data": {
      "text/html": "Synced <strong style=\"color:#cdcd00\">test1</strong>: <a href=\"https://wandb.ai/wongi/Sweep_demo/runs/ungwksc5\" target=\"_blank\">https://wandb.ai/wongi/Sweep_demo/runs/ungwksc5</a><br/>Synced 6 W&B file(s), 0 media file(s), 0 artifact file(s) and 0 other file(s)",
      "text/plain": "<IPython.core.display.HTML object>"
     },
     "metadata": {},
     "output_type": "display_data"
    },
    {
     "data": {
      "text/html": "Find logs at: <code>./wandb/run-20220917_122228-ungwksc5/logs</code>",
      "text/plain": "<IPython.core.display.HTML object>"
     },
     "metadata": {},
     "output_type": "display_data"
    },
    {
     "name": "stderr",
     "output_type": "stream",
     "text": [
      "\u001b[34m\u001b[1mwandb\u001b[0m: Agent Starting Run: cq1bdp18 with config:\n",
      "\u001b[34m\u001b[1mwandb\u001b[0m: \tbatch_size: 157\n",
      "\u001b[34m\u001b[1mwandb\u001b[0m: \tdropout: 0.3\n",
      "\u001b[34m\u001b[1mwandb\u001b[0m: \tepochs: 6\n",
      "\u001b[34m\u001b[1mwandb\u001b[0m: \tlearning_rate: 0.07004794321475875\n",
      "\u001b[34m\u001b[1mwandb\u001b[0m: \toptimizer: adam\n",
      "Failed to detect the name of this notebook, you can set it manually with the WANDB_NOTEBOOK_NAME environment variable to enable code saving.\n",
      "2022-09-17 12:24:42.497098: I tensorflow/stream_executor/platform/default/dso_loader.cc:53] Successfully opened dynamic library libcudart.so.11.0\n"
     ]
    },
    {
     "data": {
      "text/html": "wandb version 0.13.3 is available!  To upgrade, please run:\n $ pip install wandb --upgrade",
      "text/plain": "<IPython.core.display.HTML object>"
     },
     "metadata": {},
     "output_type": "display_data"
    },
    {
     "data": {
      "text/html": "Tracking run with wandb version 0.12.14",
      "text/plain": "<IPython.core.display.HTML object>"
     },
     "metadata": {},
     "output_type": "display_data"
    },
    {
     "data": {
      "text/html": "Run data is saved locally in <code>/home/psboys/private/Wandb_Study/wandb/run-20220917_122440-cq1bdp18</code>",
      "text/plain": "<IPython.core.display.HTML object>"
     },
     "metadata": {},
     "output_type": "display_data"
    },
    {
     "data": {
      "text/html": "Syncing run <strong><a href=\"https://wandb.ai/wongi/Sweep_demo/runs/cq1bdp18\" target=\"_blank\">test1</a></strong> to <a href=\"https://wandb.ai/wongi/Sweep_demo\" target=\"_blank\">Weights & Biases</a> (<a href=\"https://wandb.me/run\" target=\"_blank\">docs</a>)<br/>Sweep page:  <a href=\"https://wandb.ai/wongi/Sweep_demo/sweeps/16qztovc\" target=\"_blank\">https://wandb.ai/wongi/Sweep_demo/sweeps/16qztovc</a>",
      "text/plain": "<IPython.core.display.HTML object>"
     },
     "metadata": {},
     "output_type": "display_data"
    },
    {
     "name": "stdout",
     "output_type": "stream",
     "text": [
      "TRAIN: EPOCH 0001 / 0006 | Epoch LOSS 6.0168\n",
      "TRAIN: EPOCH 0002 / 0006 | Epoch LOSS 2.3036\n",
      "TRAIN: EPOCH 0003 / 0006 | Epoch LOSS 2.3037\n",
      "TRAIN: EPOCH 0004 / 0006 | Epoch LOSS 2.3038\n",
      "TRAIN: EPOCH 0005 / 0006 | Epoch LOSS 2.3038\n",
      "TRAIN: EPOCH 0006 / 0006 | Epoch LOSS 2.3038\n",
      "VALID: LOSS 2.3025 | Accuracy 2.3025 \n",
      "\n"
     ]
    },
    {
     "data": {
      "text/html": "Waiting for W&B process to finish... <strong style=\"color:green\">(success).</strong>",
      "text/plain": "<IPython.core.display.HTML object>"
     },
     "metadata": {},
     "output_type": "display_data"
    },
    {
     "data": {
      "application/vnd.jupyter.widget-view+json": {
       "model_id": "20dd542eac394c15b027561d60b8605f",
       "version_major": 2,
       "version_minor": 0
      },
      "text/plain": "VBox(children=(Label(value='0.001 MB of 0.001 MB uploaded (0.000 MB deduped)\\r'), FloatProgress(value=1.0, max…"
     },
     "metadata": {},
     "output_type": "display_data"
    },
    {
     "data": {
      "text/html": "<style>\n    table.wandb td:nth-child(1) { padding: 0 10px; text-align: right }\n    .wandb-row { display: flex; flex-direction: row; flex-wrap: wrap; width: 100% }\n    .wandb-col { display: flex; flex-direction: column; flex-basis: 100%; flex: 1; padding: 10px; }\n    </style>\n<div class=\"wandb-row\"><div class=\"wandb-col\"><h3>Run history:</h3><br/><table class=\"wandb\"><tr><td>train_loss</td><td>█▁▁▁▁▁</td></tr><tr><td>val_acc</td><td>▁</td></tr><tr><td>val_loss</td><td>▁</td></tr></table><br/></div><div class=\"wandb-col\"><h3>Run summary:</h3><br/><table class=\"wandb\"><tr><td>train_loss</td><td>2.30383</td></tr><tr><td>val_acc</td><td>10.1</td></tr><tr><td>val_loss</td><td>2.30251</td></tr></table><br/></div></div>",
      "text/plain": "<IPython.core.display.HTML object>"
     },
     "metadata": {},
     "output_type": "display_data"
    },
    {
     "data": {
      "text/html": "Synced <strong style=\"color:#cdcd00\">test1</strong>: <a href=\"https://wandb.ai/wongi/Sweep_demo/runs/cq1bdp18\" target=\"_blank\">https://wandb.ai/wongi/Sweep_demo/runs/cq1bdp18</a><br/>Synced 6 W&B file(s), 0 media file(s), 0 artifact file(s) and 0 other file(s)",
      "text/plain": "<IPython.core.display.HTML object>"
     },
     "metadata": {},
     "output_type": "display_data"
    },
    {
     "data": {
      "text/html": "Find logs at: <code>./wandb/run-20220917_122440-cq1bdp18/logs</code>",
      "text/plain": "<IPython.core.display.HTML object>"
     },
     "metadata": {},
     "output_type": "display_data"
    },
    {
     "name": "stderr",
     "output_type": "stream",
     "text": [
      "\u001b[34m\u001b[1mwandb\u001b[0m: Sweep Agent: Waiting for job.\n",
      "\u001b[34m\u001b[1mwandb\u001b[0m: Job received.\n",
      "\u001b[34m\u001b[1mwandb\u001b[0m: Agent Starting Run: ehuyvko3 with config:\n",
      "\u001b[34m\u001b[1mwandb\u001b[0m: \tbatch_size: 159\n",
      "\u001b[34m\u001b[1mwandb\u001b[0m: \tdropout: 0.4\n",
      "\u001b[34m\u001b[1mwandb\u001b[0m: \tepochs: 5\n",
      "\u001b[34m\u001b[1mwandb\u001b[0m: \tlearning_rate: 0.03206483058379716\n",
      "\u001b[34m\u001b[1mwandb\u001b[0m: \toptimizer: adam\n",
      "Failed to detect the name of this notebook, you can set it manually with the WANDB_NOTEBOOK_NAME environment variable to enable code saving.\n",
      "2022-09-17 12:26:38.741725: I tensorflow/stream_executor/platform/default/dso_loader.cc:53] Successfully opened dynamic library libcudart.so.11.0\n"
     ]
    },
    {
     "data": {
      "text/html": "wandb version 0.13.3 is available!  To upgrade, please run:\n $ pip install wandb --upgrade",
      "text/plain": "<IPython.core.display.HTML object>"
     },
     "metadata": {},
     "output_type": "display_data"
    },
    {
     "data": {
      "text/html": "Tracking run with wandb version 0.12.14",
      "text/plain": "<IPython.core.display.HTML object>"
     },
     "metadata": {},
     "output_type": "display_data"
    },
    {
     "data": {
      "text/html": "Run data is saved locally in <code>/home/psboys/private/Wandb_Study/wandb/run-20220917_122637-ehuyvko3</code>",
      "text/plain": "<IPython.core.display.HTML object>"
     },
     "metadata": {},
     "output_type": "display_data"
    },
    {
     "data": {
      "text/html": "Syncing run <strong><a href=\"https://wandb.ai/wongi/Sweep_demo/runs/ehuyvko3\" target=\"_blank\">test1</a></strong> to <a href=\"https://wandb.ai/wongi/Sweep_demo\" target=\"_blank\">Weights & Biases</a> (<a href=\"https://wandb.me/run\" target=\"_blank\">docs</a>)<br/>Sweep page:  <a href=\"https://wandb.ai/wongi/Sweep_demo/sweeps/16qztovc\" target=\"_blank\">https://wandb.ai/wongi/Sweep_demo/sweeps/16qztovc</a>",
      "text/plain": "<IPython.core.display.HTML object>"
     },
     "metadata": {},
     "output_type": "display_data"
    },
    {
     "name": "stdout",
     "output_type": "stream",
     "text": [
      "TRAIN: EPOCH 0001 / 0005 | Epoch LOSS 2.5500\n",
      "TRAIN: EPOCH 0002 / 0005 | Epoch LOSS 2.3024\n",
      "TRAIN: EPOCH 0003 / 0005 | Epoch LOSS 2.3024\n",
      "TRAIN: EPOCH 0004 / 0005 | Epoch LOSS 2.3025\n",
      "TRAIN: EPOCH 0005 / 0005 | Epoch LOSS 2.3025\n",
      "VALID: LOSS 2.3015 | Accuracy 2.3015 \n",
      "\n"
     ]
    },
    {
     "data": {
      "text/html": "Waiting for W&B process to finish... <strong style=\"color:green\">(success).</strong>",
      "text/plain": "<IPython.core.display.HTML object>"
     },
     "metadata": {},
     "output_type": "display_data"
    },
    {
     "data": {
      "application/vnd.jupyter.widget-view+json": {
       "model_id": "a148c19afa71457981a65053e0b92a5d",
       "version_major": 2,
       "version_minor": 0
      },
      "text/plain": "VBox(children=(Label(value='0.001 MB of 0.001 MB uploaded (0.000 MB deduped)\\r'), FloatProgress(value=1.0, max…"
     },
     "metadata": {},
     "output_type": "display_data"
    },
    {
     "data": {
      "text/html": "<style>\n    table.wandb td:nth-child(1) { padding: 0 10px; text-align: right }\n    .wandb-row { display: flex; flex-direction: row; flex-wrap: wrap; width: 100% }\n    .wandb-col { display: flex; flex-direction: column; flex-basis: 100%; flex: 1; padding: 10px; }\n    </style>\n<div class=\"wandb-row\"><div class=\"wandb-col\"><h3>Run history:</h3><br/><table class=\"wandb\"><tr><td>train_loss</td><td>█▁▁▁▁</td></tr><tr><td>val_acc</td><td>▁</td></tr><tr><td>val_loss</td><td>▁</td></tr></table><br/></div><div class=\"wandb-col\"><h3>Run summary:</h3><br/><table class=\"wandb\"><tr><td>train_loss</td><td>2.30246</td></tr><tr><td>val_acc</td><td>10.28</td></tr><tr><td>val_loss</td><td>2.30151</td></tr></table><br/></div></div>",
      "text/plain": "<IPython.core.display.HTML object>"
     },
     "metadata": {},
     "output_type": "display_data"
    },
    {
     "data": {
      "text/html": "Synced <strong style=\"color:#cdcd00\">test1</strong>: <a href=\"https://wandb.ai/wongi/Sweep_demo/runs/ehuyvko3\" target=\"_blank\">https://wandb.ai/wongi/Sweep_demo/runs/ehuyvko3</a><br/>Synced 6 W&B file(s), 0 media file(s), 0 artifact file(s) and 0 other file(s)",
      "text/plain": "<IPython.core.display.HTML object>"
     },
     "metadata": {},
     "output_type": "display_data"
    },
    {
     "data": {
      "text/html": "Find logs at: <code>./wandb/run-20220917_122637-ehuyvko3/logs</code>",
      "text/plain": "<IPython.core.display.HTML object>"
     },
     "metadata": {},
     "output_type": "display_data"
    }
   ],
   "source": [
    "wandb.login()\n",
    "sweep_id = wandb.sweep(sweep_config, project = \"Sweep_demo\", entity = 'wongi')\n",
    "wandb.agent(sweep_id, run_sweep, count=5)"
   ]
  },
  {
   "cell_type": "code",
   "execution_count": null,
   "metadata": {},
   "outputs": [],
   "source": []
  }
 ],
 "metadata": {
  "kernelspec": {
   "display_name": "Python 3.8.12 64-bit ('base': conda)",
   "name": "python3812jvsc74a57bd098b0a9b7b4eaaa670588a142fd0a9b87eaafe866f1db4228be72b4211d12040f"
  },
  "language_info": {
   "codemirror_mode": {
    "name": "ipython",
    "version": 3
   },
   "file_extension": ".py",
   "mimetype": "text/x-python",
   "name": "python",
   "nbconvert_exporter": "python",
   "pygments_lexer": "ipython3",
   "version": "3.8.12"
  },
  "orig_nbformat": 2
 },
 "nbformat": 4,
 "nbformat_minor": 2
}