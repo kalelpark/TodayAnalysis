{
  "nbformat": 4,
  "nbformat_minor": 0,
  "metadata": {
    "colab": {
      "name": "YoloV5.ipynb",
      "provenance": []
    },
    "kernelspec": {
      "name": "python3",
      "display_name": "Python 3"
    },
    "language_info": {
      "name": "python"
    },
    "accelerator": "GPU",
    "gpuClass": "standard"
  },
  "cells": [
    {
      "cell_type": "code",
      "execution_count": null,
      "metadata": {
        "id": "lHNFsAQwu2j2"
      },
      "outputs": [],
      "source": [
        "!curl -L \"https://universe.roboflow.com/ds/hzf5yklOnF?key=qAUnSECvfR\" > roboflow.zip; unzip roboflow.zip; rm roboflow.zip"
      ]
    },
    {
      "cell_type": "code",
      "source": [
        "%cd /content\n",
        "!git clone https://github.com/ultralytics/yolov5.git"
      ],
      "metadata": {
        "colab": {
          "base_uri": "https://localhost:8080/"
        },
        "id": "Ep2-eQ1qyleI",
        "outputId": "9b32fd27-8083-4c8e-c7f0-99caf4beeb05"
      },
      "execution_count": 2,
      "outputs": [
        {
          "output_type": "stream",
          "name": "stdout",
          "text": [
            "/content\n",
            "Cloning into 'yolov5'...\n",
            "remote: Enumerating objects: 11996, done.\u001b[K\n",
            "remote: Counting objects: 100% (43/43), done.\u001b[K\n",
            "remote: Compressing objects: 100% (35/35), done.\u001b[K\n",
            "remote: Total 11996 (delta 20), reused 23 (delta 8), pack-reused 11953\u001b[K\n",
            "Receiving objects: 100% (11996/11996), 12.51 MiB | 19.21 MiB/s, done.\n",
            "Resolving deltas: 100% (8244/8244), done.\n"
          ]
        }
      ]
    },
    {
      "cell_type": "code",
      "source": [
        "%cd /content/yolov5/\n",
        "!pip install -r requirements.txt"
      ],
      "metadata": {
        "id": "xuiMdwAW0F2I"
      },
      "execution_count": null,
      "outputs": []
    },
    {
      "cell_type": "code",
      "source": [
        "%cat /content/dataset/data.yaml"
      ],
      "metadata": {
        "colab": {
          "base_uri": "https://localhost:8080/"
        },
        "id": "3wMNsagl0SuN",
        "outputId": "eba9c588-aa6f-4f98-8ace-b5c480fe9f27"
      },
      "execution_count": 5,
      "outputs": [
        {
          "output_type": "stream",
          "name": "stdout",
          "text": [
            "train: ../train/images\n",
            "val: ../valid/images\n",
            "\n",
            "nc: 1\n",
            "names: ['pistol']"
          ]
        }
      ]
    },
    {
      "cell_type": "code",
      "source": [
        "# root로 변환\n",
        "%cd / \n",
        "from glob import glob\n",
        "\n",
        "img_list = glob('/content/dataset/export/images/*.jpg')\n",
        "print(len(img_list))"
      ],
      "metadata": {
        "colab": {
          "base_uri": "https://localhost:8080/"
        },
        "id": "-x9RzFFr0kTn",
        "outputId": "9cfa6d39-dea5-428e-eb52-60d586920d8b"
      },
      "execution_count": 6,
      "outputs": [
        {
          "output_type": "stream",
          "name": "stdout",
          "text": [
            "/\n",
            "2971\n"
          ]
        }
      ]
    },
    {
      "cell_type": "code",
      "source": [
        "from sklearn.model_selection import train_test_split\n",
        "\n",
        "train_img_list, val_img_list = train_test_split(img_list, test_size = 0.2, random_state = 2000)\n",
        "\n",
        "print(len(train_img_list), len(val_img_list))"
      ],
      "metadata": {
        "colab": {
          "base_uri": "https://localhost:8080/"
        },
        "id": "_o4k5RXF05__",
        "outputId": "60470537-fd54-4f7f-a1c1-896ad7faad3b"
      },
      "execution_count": 7,
      "outputs": [
        {
          "output_type": "stream",
          "name": "stdout",
          "text": [
            "2376 595\n"
          ]
        }
      ]
    },
    {
      "cell_type": "code",
      "source": [
        "with open('/content/dataset/train.txt', 'w') as f:\n",
        "    f.write('\\n'.join(train_img_list) + '\\n')\n",
        "\n",
        "with open('/content/dataset/val.txt', 'w') as f:\n",
        "    f.write('\\n'.join(val_img_list) + '\\n')"
      ],
      "metadata": {
        "id": "YI2OZUug1MFn"
      },
      "execution_count": 9,
      "outputs": []
    },
    {
      "cell_type": "code",
      "source": [
        "import yaml\n",
        "\n",
        "with open('/content/dataset/data.yaml', 'r') as f:\n",
        "    data = yaml.safe_load(f)\n",
        "\n",
        "print(data)\n",
        "\n",
        "data['train'] = '/content/dataset/train.txt'\n",
        "data['val'] = '/content/dataset/val.txt'\n",
        "\n",
        "with open('/content/dataset/data.yaml', 'w') as f:\n",
        "    yaml.dump(data, f)\n",
        "\n",
        "print(data)"
      ],
      "metadata": {
        "colab": {
          "base_uri": "https://localhost:8080/"
        },
        "id": "VtDIBqhq1kMl",
        "outputId": "d38b94bd-74d1-4103-e509-de003d84fd38"
      },
      "execution_count": 12,
      "outputs": [
        {
          "output_type": "stream",
          "name": "stdout",
          "text": [
            "{'train': '../train/images', 'val': '../valid/images', 'nc': 1, 'names': ['pistol']}\n",
            "{'train': '/content/dataset/train.txt', 'val': '/content/dataset/val.txt', 'nc': 1, 'names': ['pistol']}\n"
          ]
        }
      ]
    },
    {
      "cell_type": "code",
      "source": [
        "%cd /content/yolov5/\n",
        "\n",
        "!python train.py --img 416 --batch 16 --epochs 50 --data /content/dataset/data.yaml --cfg ./models/yolov5s.yaml --weights yolov5s.pt --name gun_yolov5s_results"
      ],
      "metadata": {
        "colab": {
          "base_uri": "https://localhost:8080/"
        },
        "id": "hGVz_Bx72Gjm",
        "outputId": "50500255-3d8c-42d2-a90c-f09f61fe3e54"
      },
      "execution_count": 13,
      "outputs": [
        {
          "output_type": "stream",
          "name": "stdout",
          "text": [
            "/content/yolov5\n",
            "\u001b[34m\u001b[1mtrain: \u001b[0mweights=yolov5s.pt, cfg=./models/yolov5s.yaml, data=/content/dataset/data.yaml, hyp=data/hyps/hyp.scratch-low.yaml, epochs=50, batch_size=16, imgsz=416, rect=False, resume=False, nosave=False, noval=False, noautoanchor=False, noplots=False, evolve=None, bucket=, cache=None, image_weights=False, device=, multi_scale=False, single_cls=False, optimizer=SGD, sync_bn=False, workers=8, project=runs/train, name=gun_yolov5s_results, exist_ok=False, quad=False, cos_lr=False, label_smoothing=0.0, patience=100, freeze=[0], save_period=-1, seed=0, local_rank=-1, entity=None, upload_dataset=False, bbox_interval=-1, artifact_alias=latest\n",
            "\u001b[34m\u001b[1mgithub: \u001b[0mup to date with https://github.com/ultralytics/yolov5 ✅\n",
            "YOLOv5 🚀 v6.2-53-gf0e5a60 Python-3.7.13 torch-1.12.1+cu113 CUDA:0 (Tesla T4, 15110MiB)\n",
            "\n",
            "\u001b[34m\u001b[1mhyperparameters: \u001b[0mlr0=0.01, lrf=0.01, momentum=0.937, weight_decay=0.0005, warmup_epochs=3.0, warmup_momentum=0.8, warmup_bias_lr=0.1, box=0.05, cls=0.5, cls_pw=1.0, obj=1.0, obj_pw=1.0, iou_t=0.2, anchor_t=4.0, fl_gamma=0.0, hsv_h=0.015, hsv_s=0.7, hsv_v=0.4, degrees=0.0, translate=0.1, scale=0.5, shear=0.0, perspective=0.0, flipud=0.0, fliplr=0.5, mosaic=1.0, mixup=0.0, copy_paste=0.0\n",
            "\u001b[34m\u001b[1mWeights & Biases: \u001b[0mrun 'pip install wandb' to automatically track and visualize YOLOv5 🚀 runs in Weights & Biases\n",
            "\u001b[34m\u001b[1mClearML: \u001b[0mrun 'pip install clearml' to automatically track, visualize and remotely train YOLOv5 🚀 in ClearML\n",
            "\u001b[34m\u001b[1mTensorBoard: \u001b[0mStart with 'tensorboard --logdir runs/train', view at http://localhost:6006/\n",
            "Downloading https://ultralytics.com/assets/Arial.ttf to /root/.config/Ultralytics/Arial.ttf...\n",
            "100% 755k/755k [00:00<00:00, 48.9MB/s]\n",
            "Downloading https://github.com/ultralytics/yolov5/releases/download/v6.2/yolov5s.pt to yolov5s.pt...\n",
            "100% 14.1M/14.1M [00:01<00:00, 10.6MB/s]\n",
            "\n",
            "Overriding model.yaml nc=80 with nc=1\n",
            "\n",
            "                 from  n    params  module                                  arguments                     \n",
            "  0                -1  1      3520  models.common.Conv                      [3, 32, 6, 2, 2]              \n",
            "  1                -1  1     18560  models.common.Conv                      [32, 64, 3, 2]                \n",
            "  2                -1  1     18816  models.common.C3                        [64, 64, 1]                   \n",
            "  3                -1  1     73984  models.common.Conv                      [64, 128, 3, 2]               \n",
            "  4                -1  2    115712  models.common.C3                        [128, 128, 2]                 \n",
            "  5                -1  1    295424  models.common.Conv                      [128, 256, 3, 2]              \n",
            "  6                -1  3    625152  models.common.C3                        [256, 256, 3]                 \n",
            "  7                -1  1   1180672  models.common.Conv                      [256, 512, 3, 2]              \n",
            "  8                -1  1   1182720  models.common.C3                        [512, 512, 1]                 \n",
            "  9                -1  1    656896  models.common.SPPF                      [512, 512, 5]                 \n",
            " 10                -1  1    131584  models.common.Conv                      [512, 256, 1, 1]              \n",
            " 11                -1  1         0  torch.nn.modules.upsampling.Upsample    [None, 2, 'nearest']          \n",
            " 12           [-1, 6]  1         0  models.common.Concat                    [1]                           \n",
            " 13                -1  1    361984  models.common.C3                        [512, 256, 1, False]          \n",
            " 14                -1  1     33024  models.common.Conv                      [256, 128, 1, 1]              \n",
            " 15                -1  1         0  torch.nn.modules.upsampling.Upsample    [None, 2, 'nearest']          \n",
            " 16           [-1, 4]  1         0  models.common.Concat                    [1]                           \n",
            " 17                -1  1     90880  models.common.C3                        [256, 128, 1, False]          \n",
            " 18                -1  1    147712  models.common.Conv                      [128, 128, 3, 2]              \n",
            " 19          [-1, 14]  1         0  models.common.Concat                    [1]                           \n",
            " 20                -1  1    296448  models.common.C3                        [256, 256, 1, False]          \n",
            " 21                -1  1    590336  models.common.Conv                      [256, 256, 3, 2]              \n",
            " 22          [-1, 10]  1         0  models.common.Concat                    [1]                           \n",
            " 23                -1  1   1182720  models.common.C3                        [512, 512, 1, False]          \n",
            " 24      [17, 20, 23]  1     16182  models.yolo.Detect                      [1, [[10, 13, 16, 30, 33, 23], [30, 61, 62, 45, 59, 119], [116, 90, 156, 198, 373, 326]], [128, 256, 512]]\n",
            "YOLOv5s summary: 270 layers, 7022326 parameters, 7022326 gradients, 15.9 GFLOPs\n",
            "\n",
            "Transferred 342/349 items from yolov5s.pt\n",
            "\u001b[34m\u001b[1mAMP: \u001b[0mchecks passed ✅\n",
            "\u001b[34m\u001b[1moptimizer:\u001b[0m SGD(lr=0.01) with parameter groups 57 weight(decay=0.0), 60 weight(decay=0.0005), 60 bias\n",
            "\u001b[34m\u001b[1malbumentations: \u001b[0mBlur(p=0.01, blur_limit=(3, 7)), MedianBlur(p=0.01, blur_limit=(3, 7)), ToGray(p=0.01), CLAHE(p=0.01, clip_limit=(1, 4.0), tile_grid_size=(8, 8))\n",
            "\u001b[34m\u001b[1mtrain: \u001b[0mScanning '/content/dataset/train' images and labels...2376 found, 0 missing, 0 empty, 0 corrupt: 100% 2376/2376 [00:01<00:00, 2142.46it/s]\n",
            "\u001b[34m\u001b[1mtrain: \u001b[0mNew cache created: /content/dataset/train.cache\n",
            "\u001b[34m\u001b[1mval: \u001b[0mScanning '/content/dataset/val' images and labels...595 found, 0 missing, 0 empty, 0 corrupt: 100% 595/595 [00:00<00:00, 961.73it/s] \n",
            "\u001b[34m\u001b[1mval: \u001b[0mNew cache created: /content/dataset/val.cache\n",
            "\n",
            "\u001b[34m\u001b[1mAutoAnchor: \u001b[0m3.89 anchors/target, 1.000 Best Possible Recall (BPR). Current anchors are a good fit to dataset ✅\n",
            "Plotting labels to runs/train/gun_yolov5s_results/labels.jpg... \n",
            "Image sizes 416 train, 416 val\n",
            "Using 2 dataloader workers\n",
            "Logging results to \u001b[1mruns/train/gun_yolov5s_results\u001b[0m\n",
            "Starting training for 50 epochs...\n",
            "\n",
            "      Epoch    GPU_mem   box_loss   obj_loss   cls_loss  Instances       Size\n",
            "       0/49      1.71G    0.08668    0.02195          0         22        416: 100% 149/149 [00:42<00:00,  3.47it/s]\n",
            "                 Class     Images  Instances          P          R     mAP@.5 mAP@.5:.95: 100% 19/19 [00:05<00:00,  3.19it/s]\n",
            "                   all        595        709      0.471      0.449      0.435      0.245\n",
            "\n",
            "      Epoch    GPU_mem   box_loss   obj_loss   cls_loss  Instances       Size\n",
            "       1/49      2.07G     0.0553    0.02034          0         23        416: 100% 149/149 [00:39<00:00,  3.81it/s]\n",
            "                 Class     Images  Instances          P          R     mAP@.5 mAP@.5:.95: 100% 19/19 [00:04<00:00,  4.31it/s]\n",
            "                   all        595        709      0.705      0.606      0.688      0.333\n",
            "\n",
            "      Epoch    GPU_mem   box_loss   obj_loss   cls_loss  Instances       Size\n",
            "       2/49      2.07G    0.04891    0.01803          0         18        416: 100% 149/149 [00:37<00:00,  3.93it/s]\n",
            "                 Class     Images  Instances          P          R     mAP@.5 mAP@.5:.95: 100% 19/19 [00:04<00:00,  4.25it/s]\n",
            "                   all        595        709      0.806       0.66      0.762      0.451\n",
            "\n",
            "      Epoch    GPU_mem   box_loss   obj_loss   cls_loss  Instances       Size\n",
            "       3/49      2.07G    0.04593    0.01777          0         22        416: 100% 149/149 [00:37<00:00,  3.94it/s]\n",
            "                 Class     Images  Instances          P          R     mAP@.5 mAP@.5:.95: 100% 19/19 [00:04<00:00,  4.33it/s]\n",
            "                   all        595        709      0.808      0.694      0.773      0.476\n",
            "\n",
            "      Epoch    GPU_mem   box_loss   obj_loss   cls_loss  Instances       Size\n",
            "       4/49      2.07G    0.04305    0.01756          0         15        416: 100% 149/149 [00:37<00:00,  3.98it/s]\n",
            "                 Class     Images  Instances          P          R     mAP@.5 mAP@.5:.95: 100% 19/19 [00:04<00:00,  4.25it/s]\n",
            "                   all        595        709      0.828      0.653      0.748      0.446\n",
            "\n",
            "      Epoch    GPU_mem   box_loss   obj_loss   cls_loss  Instances       Size\n",
            "       5/49      2.07G    0.04112    0.01707          0         18        416: 100% 149/149 [00:38<00:00,  3.89it/s]\n",
            "                 Class     Images  Instances          P          R     mAP@.5 mAP@.5:.95: 100% 19/19 [00:04<00:00,  4.38it/s]\n",
            "                   all        595        709      0.817      0.699      0.797      0.519\n",
            "\n",
            "      Epoch    GPU_mem   box_loss   obj_loss   cls_loss  Instances       Size\n",
            "       6/49      2.07G    0.03946     0.0168          0         16        416: 100% 149/149 [00:37<00:00,  3.96it/s]\n",
            "                 Class     Images  Instances          P          R     mAP@.5 mAP@.5:.95: 100% 19/19 [00:04<00:00,  4.22it/s]\n",
            "                   all        595        709      0.786      0.701      0.785      0.504\n",
            "\n",
            "      Epoch    GPU_mem   box_loss   obj_loss   cls_loss  Instances       Size\n",
            "       7/49      2.07G    0.03828    0.01632          0         19        416: 100% 149/149 [00:38<00:00,  3.92it/s]\n",
            "                 Class     Images  Instances          P          R     mAP@.5 mAP@.5:.95: 100% 19/19 [00:04<00:00,  4.31it/s]\n",
            "                   all        595        709      0.844      0.711      0.808      0.509\n",
            "\n",
            "      Epoch    GPU_mem   box_loss   obj_loss   cls_loss  Instances       Size\n",
            "       8/49      2.07G    0.03731    0.01589          0         21        416: 100% 149/149 [00:37<00:00,  3.99it/s]\n",
            "                 Class     Images  Instances          P          R     mAP@.5 mAP@.5:.95: 100% 19/19 [00:04<00:00,  4.12it/s]\n",
            "                   all        595        709      0.841      0.724      0.826      0.557\n",
            "\n",
            "      Epoch    GPU_mem   box_loss   obj_loss   cls_loss  Instances       Size\n",
            "       9/49      2.07G    0.03603    0.01556          0         22        416: 100% 149/149 [00:37<00:00,  3.97it/s]\n",
            "                 Class     Images  Instances          P          R     mAP@.5 mAP@.5:.95: 100% 19/19 [00:04<00:00,  4.26it/s]\n",
            "                   all        595        709      0.844      0.731       0.82      0.526\n",
            "\n",
            "      Epoch    GPU_mem   box_loss   obj_loss   cls_loss  Instances       Size\n",
            "      10/49      2.07G      0.036    0.01578          0         21        416: 100% 149/149 [00:37<00:00,  3.99it/s]\n",
            "                 Class     Images  Instances          P          R     mAP@.5 mAP@.5:.95: 100% 19/19 [00:04<00:00,  4.13it/s]\n",
            "                   all        595        709      0.847      0.781       0.85      0.568\n",
            "\n",
            "      Epoch    GPU_mem   box_loss   obj_loss   cls_loss  Instances       Size\n",
            "      11/49      2.07G    0.03519    0.01522          0         20        416: 100% 149/149 [00:37<00:00,  3.95it/s]\n",
            "                 Class     Images  Instances          P          R     mAP@.5 mAP@.5:.95: 100% 19/19 [00:04<00:00,  4.04it/s]\n",
            "                   all        595        709       0.83      0.763      0.842      0.567\n",
            "\n",
            "      Epoch    GPU_mem   box_loss   obj_loss   cls_loss  Instances       Size\n",
            "      12/49      2.07G    0.03464    0.01497          0         21        416: 100% 149/149 [00:37<00:00,  3.96it/s]\n",
            "                 Class     Images  Instances          P          R     mAP@.5 mAP@.5:.95: 100% 19/19 [00:04<00:00,  4.20it/s]\n",
            "                   all        595        709      0.856      0.773      0.861      0.582\n",
            "\n",
            "      Epoch    GPU_mem   box_loss   obj_loss   cls_loss  Instances       Size\n",
            "      13/49      2.07G    0.03352    0.01467          0         15        416: 100% 149/149 [00:37<00:00,  4.00it/s]\n",
            "                 Class     Images  Instances          P          R     mAP@.5 mAP@.5:.95: 100% 19/19 [00:04<00:00,  4.32it/s]\n",
            "                   all        595        709      0.866      0.781      0.864      0.587\n",
            "\n",
            "      Epoch    GPU_mem   box_loss   obj_loss   cls_loss  Instances       Size\n",
            "      14/49      2.07G    0.03377    0.01479          0         14        416: 100% 149/149 [00:37<00:00,  3.94it/s]\n",
            "                 Class     Images  Instances          P          R     mAP@.5 mAP@.5:.95: 100% 19/19 [00:04<00:00,  4.38it/s]\n",
            "                   all        595        709      0.866      0.788      0.869      0.592\n",
            "\n",
            "      Epoch    GPU_mem   box_loss   obj_loss   cls_loss  Instances       Size\n",
            "      15/49      2.07G     0.0324    0.01447          0         15        416: 100% 149/149 [00:37<00:00,  4.02it/s]\n",
            "                 Class     Images  Instances          P          R     mAP@.5 mAP@.5:.95: 100% 19/19 [00:04<00:00,  4.34it/s]\n",
            "                   all        595        709      0.867      0.792      0.868      0.604\n",
            "\n",
            "      Epoch    GPU_mem   box_loss   obj_loss   cls_loss  Instances       Size\n",
            "      16/49      2.07G    0.03203    0.01438          0         20        416: 100% 149/149 [00:37<00:00,  3.93it/s]\n",
            "                 Class     Images  Instances          P          R     mAP@.5 mAP@.5:.95: 100% 19/19 [00:04<00:00,  4.33it/s]\n",
            "                   all        595        709      0.829      0.809      0.867      0.592\n",
            "\n",
            "      Epoch    GPU_mem   box_loss   obj_loss   cls_loss  Instances       Size\n",
            "      17/49      2.07G    0.03194    0.01402          0         25        416: 100% 149/149 [00:37<00:00,  4.00it/s]\n",
            "                 Class     Images  Instances          P          R     mAP@.5 mAP@.5:.95: 100% 19/19 [00:04<00:00,  4.34it/s]\n",
            "                   all        595        709       0.92      0.795       0.89      0.616\n",
            "\n",
            "      Epoch    GPU_mem   box_loss   obj_loss   cls_loss  Instances       Size\n",
            "      18/49      2.07G    0.03158    0.01373          0         22        416: 100% 149/149 [00:37<00:00,  3.97it/s]\n",
            "                 Class     Images  Instances          P          R     mAP@.5 mAP@.5:.95: 100% 19/19 [00:04<00:00,  4.29it/s]\n",
            "                   all        595        709      0.897      0.793      0.885      0.612\n",
            "\n",
            "      Epoch    GPU_mem   box_loss   obj_loss   cls_loss  Instances       Size\n",
            "      19/49      2.07G    0.03087    0.01374          0         14        416: 100% 149/149 [00:37<00:00,  3.98it/s]\n",
            "                 Class     Images  Instances          P          R     mAP@.5 mAP@.5:.95: 100% 19/19 [00:04<00:00,  4.35it/s]\n",
            "                   all        595        709      0.886      0.795      0.883      0.624\n",
            "\n",
            "      Epoch    GPU_mem   box_loss   obj_loss   cls_loss  Instances       Size\n",
            "      20/49      2.07G     0.0305    0.01376          0         21        416: 100% 149/149 [00:38<00:00,  3.91it/s]\n",
            "                 Class     Images  Instances          P          R     mAP@.5 mAP@.5:.95: 100% 19/19 [00:04<00:00,  4.38it/s]\n",
            "                   all        595        709      0.885      0.815      0.879      0.611\n",
            "\n",
            "      Epoch    GPU_mem   box_loss   obj_loss   cls_loss  Instances       Size\n",
            "      21/49      2.07G    0.03009    0.01359          0         19        416: 100% 149/149 [00:37<00:00,  3.96it/s]\n",
            "                 Class     Images  Instances          P          R     mAP@.5 mAP@.5:.95: 100% 19/19 [00:04<00:00,  4.25it/s]\n",
            "                   all        595        709      0.904      0.794      0.881      0.618\n",
            "\n",
            "      Epoch    GPU_mem   box_loss   obj_loss   cls_loss  Instances       Size\n",
            "      22/49      2.07G    0.02968    0.01347          0         25        416: 100% 149/149 [00:37<00:00,  3.96it/s]\n",
            "                 Class     Images  Instances          P          R     mAP@.5 mAP@.5:.95: 100% 19/19 [00:04<00:00,  4.23it/s]\n",
            "                   all        595        709       0.91      0.798      0.887      0.612\n",
            "\n",
            "      Epoch    GPU_mem   box_loss   obj_loss   cls_loss  Instances       Size\n",
            "      23/49      2.07G    0.02931    0.01343          0         19        416: 100% 149/149 [00:37<00:00,  3.99it/s]\n",
            "                 Class     Images  Instances          P          R     mAP@.5 mAP@.5:.95: 100% 19/19 [00:04<00:00,  4.20it/s]\n",
            "                   all        595        709      0.918      0.804      0.898      0.635\n",
            "\n",
            "      Epoch    GPU_mem   box_loss   obj_loss   cls_loss  Instances       Size\n",
            "      24/49      2.07G    0.02852     0.0132          0         24        416: 100% 149/149 [00:37<00:00,  3.95it/s]\n",
            "                 Class     Images  Instances          P          R     mAP@.5 mAP@.5:.95: 100% 19/19 [00:04<00:00,  4.23it/s]\n",
            "                   all        595        709      0.887      0.794      0.885      0.632\n",
            "\n",
            "      Epoch    GPU_mem   box_loss   obj_loss   cls_loss  Instances       Size\n",
            "      25/49      2.07G    0.02863    0.01323          0         21        416: 100% 149/149 [00:37<00:00,  3.98it/s]\n",
            "                 Class     Images  Instances          P          R     mAP@.5 mAP@.5:.95: 100% 19/19 [00:04<00:00,  4.13it/s]\n",
            "                   all        595        709      0.928      0.784      0.886      0.628\n",
            "\n",
            "      Epoch    GPU_mem   box_loss   obj_loss   cls_loss  Instances       Size\n",
            "      26/49      2.07G     0.0284    0.01285          0         18        416: 100% 149/149 [00:37<00:00,  3.95it/s]\n",
            "                 Class     Images  Instances          P          R     mAP@.5 mAP@.5:.95: 100% 19/19 [00:04<00:00,  4.18it/s]\n",
            "                   all        595        709      0.886      0.822       0.89      0.624\n",
            "\n",
            "      Epoch    GPU_mem   box_loss   obj_loss   cls_loss  Instances       Size\n",
            "      27/49      2.07G    0.02791    0.01282          0         25        416: 100% 149/149 [00:37<00:00,  3.96it/s]\n",
            "                 Class     Images  Instances          P          R     mAP@.5 mAP@.5:.95: 100% 19/19 [00:04<00:00,  4.19it/s]\n",
            "                   all        595        709      0.912      0.808       0.89      0.637\n",
            "\n",
            "      Epoch    GPU_mem   box_loss   obj_loss   cls_loss  Instances       Size\n",
            "      28/49      2.07G    0.02746    0.01273          0         14        416: 100% 149/149 [00:37<00:00,  3.96it/s]\n",
            "                 Class     Images  Instances          P          R     mAP@.5 mAP@.5:.95: 100% 19/19 [00:04<00:00,  4.31it/s]\n",
            "                   all        595        709      0.909      0.803      0.893       0.64\n",
            "\n",
            "      Epoch    GPU_mem   box_loss   obj_loss   cls_loss  Instances       Size\n",
            "      29/49      2.07G    0.02729    0.01271          0         13        416: 100% 149/149 [00:37<00:00,  3.96it/s]\n",
            "                 Class     Images  Instances          P          R     mAP@.5 mAP@.5:.95: 100% 19/19 [00:04<00:00,  4.41it/s]\n",
            "                   all        595        709      0.882      0.841      0.896      0.648\n",
            "\n",
            "      Epoch    GPU_mem   box_loss   obj_loss   cls_loss  Instances       Size\n",
            "      30/49      2.07G    0.02695    0.01236          0         17        416: 100% 149/149 [00:37<00:00,  4.01it/s]\n",
            "                 Class     Images  Instances          P          R     mAP@.5 mAP@.5:.95: 100% 19/19 [00:04<00:00,  4.27it/s]\n",
            "                   all        595        709      0.897      0.839      0.912      0.654\n",
            "\n",
            "      Epoch    GPU_mem   box_loss   obj_loss   cls_loss  Instances       Size\n",
            "      31/49      2.07G    0.02669    0.01228          0         19        416: 100% 149/149 [00:38<00:00,  3.91it/s]\n",
            "                 Class     Images  Instances          P          R     mAP@.5 mAP@.5:.95: 100% 19/19 [00:04<00:00,  4.36it/s]\n",
            "                   all        595        709      0.927      0.822      0.906      0.645\n",
            "\n",
            "      Epoch    GPU_mem   box_loss   obj_loss   cls_loss  Instances       Size\n",
            "      32/49      2.07G    0.02675    0.01261          0         27        416: 100% 149/149 [00:37<00:00,  3.97it/s]\n",
            "                 Class     Images  Instances          P          R     mAP@.5 mAP@.5:.95: 100% 19/19 [00:04<00:00,  4.26it/s]\n",
            "                   all        595        709       0.89      0.835      0.909      0.649\n",
            "\n",
            "      Epoch    GPU_mem   box_loss   obj_loss   cls_loss  Instances       Size\n",
            "      33/49      2.07G    0.02658    0.01187          0         16        416: 100% 149/149 [00:37<00:00,  3.96it/s]\n",
            "                 Class     Images  Instances          P          R     mAP@.5 mAP@.5:.95: 100% 19/19 [00:04<00:00,  4.33it/s]\n",
            "                   all        595        709      0.921      0.811      0.902      0.652\n",
            "\n",
            "      Epoch    GPU_mem   box_loss   obj_loss   cls_loss  Instances       Size\n",
            "      34/49      2.07G    0.02584    0.01236          0         22        416: 100% 149/149 [00:37<00:00,  3.99it/s]\n",
            "                 Class     Images  Instances          P          R     mAP@.5 mAP@.5:.95: 100% 19/19 [00:04<00:00,  4.34it/s]\n",
            "                   all        595        709      0.918      0.834      0.907      0.665\n",
            "\n",
            "      Epoch    GPU_mem   box_loss   obj_loss   cls_loss  Instances       Size\n",
            "      35/49      2.07G    0.02537    0.01195          0         32        416: 100% 149/149 [00:37<00:00,  3.97it/s]\n",
            "                 Class     Images  Instances          P          R     mAP@.5 mAP@.5:.95: 100% 19/19 [00:04<00:00,  4.16it/s]\n",
            "                   all        595        709      0.907      0.832      0.903      0.656\n",
            "\n",
            "      Epoch    GPU_mem   box_loss   obj_loss   cls_loss  Instances       Size\n",
            "      36/49      2.07G    0.02527    0.01179          0         19        416: 100% 149/149 [00:37<00:00,  3.93it/s]\n",
            "                 Class     Images  Instances          P          R     mAP@.5 mAP@.5:.95: 100% 19/19 [00:04<00:00,  4.27it/s]\n",
            "                   all        595        709      0.912      0.843      0.909      0.665\n",
            "\n",
            "      Epoch    GPU_mem   box_loss   obj_loss   cls_loss  Instances       Size\n",
            "      37/49      2.07G    0.02515     0.0118          0         18        416: 100% 149/149 [00:37<00:00,  3.93it/s]\n",
            "                 Class     Images  Instances          P          R     mAP@.5 mAP@.5:.95: 100% 19/19 [00:04<00:00,  4.14it/s]\n",
            "                   all        595        709      0.922      0.829      0.911      0.679\n",
            "\n",
            "      Epoch    GPU_mem   box_loss   obj_loss   cls_loss  Instances       Size\n",
            "      38/49      2.07G    0.02471    0.01204          0         31        416: 100% 149/149 [00:38<00:00,  3.86it/s]\n",
            "                 Class     Images  Instances          P          R     mAP@.5 mAP@.5:.95: 100% 19/19 [00:04<00:00,  4.35it/s]\n",
            "                   all        595        709      0.923      0.831      0.906      0.663\n",
            "\n",
            "      Epoch    GPU_mem   box_loss   obj_loss   cls_loss  Instances       Size\n",
            "      39/49      2.07G    0.02434    0.01149          0         16        416: 100% 149/149 [00:37<00:00,  3.97it/s]\n",
            "                 Class     Images  Instances          P          R     mAP@.5 mAP@.5:.95: 100% 19/19 [00:04<00:00,  4.29it/s]\n",
            "                   all        595        709       0.91      0.846      0.915      0.669\n",
            "\n",
            "      Epoch    GPU_mem   box_loss   obj_loss   cls_loss  Instances       Size\n",
            "      40/49      2.07G    0.02433    0.01146          0         17        416: 100% 149/149 [00:37<00:00,  3.98it/s]\n",
            "                 Class     Images  Instances          P          R     mAP@.5 mAP@.5:.95: 100% 19/19 [00:04<00:00,  4.30it/s]\n",
            "                   all        595        709      0.922      0.822      0.905      0.658\n",
            "\n",
            "      Epoch    GPU_mem   box_loss   obj_loss   cls_loss  Instances       Size\n",
            "      41/49      2.07G    0.02408    0.01151          0         14        416: 100% 149/149 [00:37<00:00,  4.00it/s]\n",
            "                 Class     Images  Instances          P          R     mAP@.5 mAP@.5:.95: 100% 19/19 [00:04<00:00,  4.32it/s]\n",
            "                   all        595        709        0.9       0.84      0.915      0.672\n",
            "\n",
            "      Epoch    GPU_mem   box_loss   obj_loss   cls_loss  Instances       Size\n",
            "      42/49      2.07G    0.02356    0.01127          0         16        416: 100% 149/149 [00:37<00:00,  3.97it/s]\n",
            "                 Class     Images  Instances          P          R     mAP@.5 mAP@.5:.95: 100% 19/19 [00:04<00:00,  4.40it/s]\n",
            "                   all        595        709       0.91      0.827      0.915      0.668\n",
            "\n",
            "      Epoch    GPU_mem   box_loss   obj_loss   cls_loss  Instances       Size\n",
            "      43/49      2.07G    0.02351    0.01121          0         17        416: 100% 149/149 [00:38<00:00,  3.91it/s]\n",
            "                 Class     Images  Instances          P          R     mAP@.5 mAP@.5:.95: 100% 19/19 [00:04<00:00,  4.28it/s]\n",
            "                   all        595        709      0.915      0.835      0.915      0.674\n",
            "\n",
            "      Epoch    GPU_mem   box_loss   obj_loss   cls_loss  Instances       Size\n",
            "      44/49      2.07G    0.02297    0.01103          0         18        416: 100% 149/149 [00:37<00:00,  3.93it/s]\n",
            "                 Class     Images  Instances          P          R     mAP@.5 mAP@.5:.95: 100% 19/19 [00:04<00:00,  4.25it/s]\n",
            "                   all        595        709       0.91      0.827      0.911      0.672\n",
            "\n",
            "      Epoch    GPU_mem   box_loss   obj_loss   cls_loss  Instances       Size\n",
            "      45/49      2.07G    0.02308    0.01119          0         17        416: 100% 149/149 [00:38<00:00,  3.90it/s]\n",
            "                 Class     Images  Instances          P          R     mAP@.5 mAP@.5:.95: 100% 19/19 [00:04<00:00,  4.22it/s]\n",
            "                   all        595        709      0.922      0.833       0.92      0.676\n",
            "\n",
            "      Epoch    GPU_mem   box_loss   obj_loss   cls_loss  Instances       Size\n",
            "      46/49      2.07G    0.02301    0.01111          0         19        416: 100% 149/149 [00:38<00:00,  3.86it/s]\n",
            "                 Class     Images  Instances          P          R     mAP@.5 mAP@.5:.95: 100% 19/19 [00:04<00:00,  4.09it/s]\n",
            "                   all        595        709      0.911      0.839       0.92      0.681\n",
            "\n",
            "      Epoch    GPU_mem   box_loss   obj_loss   cls_loss  Instances       Size\n",
            "      47/49      2.07G    0.02212     0.0108          0         16        416: 100% 149/149 [00:38<00:00,  3.91it/s]\n",
            "                 Class     Images  Instances          P          R     mAP@.5 mAP@.5:.95: 100% 19/19 [00:04<00:00,  4.17it/s]\n",
            "                   all        595        709      0.902       0.85      0.917      0.676\n",
            "\n",
            "      Epoch    GPU_mem   box_loss   obj_loss   cls_loss  Instances       Size\n",
            "      48/49      2.07G    0.02294    0.01104          0         14        416: 100% 149/149 [00:38<00:00,  3.87it/s]\n",
            "                 Class     Images  Instances          P          R     mAP@.5 mAP@.5:.95: 100% 19/19 [00:04<00:00,  4.30it/s]\n",
            "                   all        595        709      0.929      0.829       0.92      0.685\n",
            "\n",
            "      Epoch    GPU_mem   box_loss   obj_loss   cls_loss  Instances       Size\n",
            "      49/49      2.07G    0.02246    0.01087          0         15        416: 100% 149/149 [00:38<00:00,  3.90it/s]\n",
            "                 Class     Images  Instances          P          R     mAP@.5 mAP@.5:.95: 100% 19/19 [00:04<00:00,  4.34it/s]\n",
            "                   all        595        709      0.925      0.836      0.919      0.679\n",
            "\n",
            "50 epochs completed in 0.594 hours.\n",
            "Optimizer stripped from runs/train/gun_yolov5s_results/weights/last.pt, 14.3MB\n",
            "Optimizer stripped from runs/train/gun_yolov5s_results/weights/best.pt, 14.3MB\n",
            "\n",
            "Validating runs/train/gun_yolov5s_results/weights/best.pt...\n",
            "Fusing layers... \n",
            "YOLOv5s summary: 213 layers, 7012822 parameters, 0 gradients, 15.8 GFLOPs\n",
            "                 Class     Images  Instances          P          R     mAP@.5 mAP@.5:.95: 100% 19/19 [00:06<00:00,  3.03it/s]\n",
            "                   all        595        709      0.929      0.829       0.92      0.685\n",
            "Results saved to \u001b[1mruns/train/gun_yolov5s_results\u001b[0m\n"
          ]
        }
      ]
    },
    {
      "cell_type": "code",
      "source": [
        "%load_ext tensorboard\n",
        "%tensorboard --logdir /content/yolov5/runs/"
      ],
      "metadata": {
        "id": "jg9Jn4M02wjr"
      },
      "execution_count": null,
      "outputs": []
    },
    {
      "cell_type": "code",
      "source": [
        "from IPython.display import Image\n",
        "import os\n",
        "\n",
        "val_img_path = val_img_list[0]\n",
        "\n",
        "!python detect.py --weights /content/yolov5/runs/train/gun_yolov5s_results/weights/best.pt --img 416 --conf 0.5 --source \"{val_img_path}\""
      ],
      "metadata": {
        "colab": {
          "base_uri": "https://localhost:8080/"
        },
        "id": "ZkjaOB_K_qU7",
        "outputId": "8e7d6c35-2afc-437f-e8c5-90a225ec0f22"
      },
      "execution_count": 17,
      "outputs": [
        {
          "output_type": "stream",
          "name": "stdout",
          "text": [
            "\u001b[34m\u001b[1mdetect: \u001b[0mweights=['/content/yolov5/runs/train/gun_yolov5s_results/weights/best.pt'], source=/content/dataset/export/images/armas (2441)_jpg.rf.4e449493e732c9f33f187e6e46f1a995.jpg, data=data/coco128.yaml, imgsz=[416, 416], conf_thres=0.5, iou_thres=0.45, max_det=1000, device=, view_img=False, save_txt=False, save_conf=False, save_crop=False, nosave=False, classes=None, agnostic_nms=False, augment=False, visualize=False, update=False, project=runs/detect, name=exp, exist_ok=False, line_thickness=3, hide_labels=False, hide_conf=False, half=False, dnn=False\n",
            "YOLOv5 🚀 v6.2-53-gf0e5a60 Python-3.7.13 torch-1.12.1+cu113 CUDA:0 (Tesla T4, 15110MiB)\n",
            "\n",
            "Fusing layers... \n",
            "YOLOv5s summary: 213 layers, 7012822 parameters, 0 gradients, 15.8 GFLOPs\n",
            "image 1/1 /content/dataset/export/images/armas (2441)_jpg.rf.4e449493e732c9f33f187e6e46f1a995.jpg: 416x416 1 pistol, 8.2ms\n",
            "Speed: 0.4ms pre-process, 8.2ms inference, 1.2ms NMS per image at shape (1, 3, 416, 416)\n",
            "Results saved to \u001b[1mruns/detect/exp\u001b[0m\n"
          ]
        }
      ]
    },
    {
      "cell_type": "code",
      "source": [
        "Image(os.path.join('/content/yolov5/runs/detect/exp', os.path.basename(val_img_path)))"
      ],
      "metadata": {
        "colab": {
          "base_uri": "https://localhost:8080/",
          "height": 433
        },
        "id": "QDq7Ns1nAa6r",
        "outputId": "aa9b55d6-b440-4b63-aef1-4d914f64c8d7"
      },
      "execution_count": 19,
      "outputs": [
        {
          "output_type": "execute_result",
          "data": {
            "image/jpeg": "[encoded data removed]",
            "text/plain": [
              "<IPython.core.display.Image object>"
            ]
          },
          "metadata": {},
          "execution_count": 19
        }
      ]
    },
    {
      "cell_type": "code",
      "source": [
        ""
      ],
      "metadata": {
        "id": "iD3wp-cKBSKy"
      },
      "execution_count": null,
      "outputs": []
    }
  ]
}